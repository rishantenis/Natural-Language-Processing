{
 "cells": [
  {
   "cell_type": "code",
   "execution_count": 3,
   "metadata": {},
   "outputs": [],
   "source": [
    "# ! pip install nltk"
   ]
  },
  {
   "cell_type": "code",
   "execution_count": 4,
   "metadata": {},
   "outputs": [
    {
     "name": "stdout",
     "output_type": "stream",
     "text": [
      "['Hello', ',', 'how', 'are', 'you', 'doing', '?']\n"
     ]
    },
    {
     "name": "stderr",
     "output_type": "stream",
     "text": [
      "[nltk_data] Downloading package punkt to\n",
      "[nltk_data]     C:\\Users\\Tenis\\AppData\\Roaming\\nltk_data...\n",
      "[nltk_data]   Package punkt is already up-to-date!\n"
     ]
    }
   ],
   "source": [
    "import nltk\n",
    "from nltk.tokenize import word_tokenize\n",
    "nltk.download('punkt')\n",
    "text = \"Hello, how are you doing?\"\n",
    "tokens = word_tokenize(text)\n",
    "print(tokens)"
   ]
  },
  {
   "cell_type": "code",
   "execution_count": 5,
   "metadata": {},
   "outputs": [
    {
     "name": "stdout",
     "output_type": "stream",
     "text": [
      "Requirement already satisfied: nltk in c:\\users\\tenis\\anaconda3\\envs\\data_sci\\lib\\site-packages (3.8.1)\n",
      "Requirement already satisfied: tqdm in c:\\users\\tenis\\anaconda3\\envs\\data_sci\\lib\\site-packages (from nltk) (4.66.2)\n",
      "Requirement already satisfied: regex>=2021.8.3 in c:\\users\\tenis\\anaconda3\\envs\\data_sci\\lib\\site-packages (from nltk) (2023.12.25)\n",
      "Requirement already satisfied: joblib in c:\\users\\tenis\\anaconda3\\envs\\data_sci\\lib\\site-packages (from nltk) (1.1.1)\n",
      "Requirement already satisfied: click in c:\\users\\tenis\\anaconda3\\envs\\data_sci\\lib\\site-packages (from nltk) (8.1.7)\n",
      "Requirement already satisfied: importlib-metadata in c:\\users\\tenis\\anaconda3\\envs\\data_sci\\lib\\site-packages (from click->nltk) (6.7.0)\n",
      "Requirement already satisfied: colorama in c:\\users\\tenis\\anaconda3\\envs\\data_sci\\lib\\site-packages (from click->nltk) (0.4.6)\n",
      "Requirement already satisfied: typing-extensions>=3.6.4 in c:\\users\\tenis\\anaconda3\\envs\\data_sci\\lib\\site-packages (from importlib-metadata->click->nltk) (4.3.0)\n",
      "Requirement already satisfied: zipp>=0.5 in c:\\users\\tenis\\anaconda3\\envs\\data_sci\\lib\\site-packages (from importlib-metadata->click->nltk) (3.15.0)\n"
     ]
    }
   ],
   "source": [
    "! pip install nltk\n"
   ]
  }
 ],
 "metadata": {
  "kernelspec": {
   "display_name": "Data_Sci",
   "language": "python",
   "name": "python3"
  },
  "language_info": {
   "codemirror_mode": {
    "name": "ipython",
    "version": 3
   },
   "file_extension": ".py",
   "mimetype": "text/x-python",
   "name": "python",
   "nbconvert_exporter": "python",
   "pygments_lexer": "ipython3",
   "version": "3.7.16"
  }
 },
 "nbformat": 4,
 "nbformat_minor": 2
}
